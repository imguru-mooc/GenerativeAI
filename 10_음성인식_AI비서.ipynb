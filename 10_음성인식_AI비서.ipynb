{
  "nbformat": 4,
  "nbformat_minor": 0,
  "metadata": {
    "colab": {
      "provenance": [],
      "machine_shape": "hm",
      "gpuType": "A100"
    },
    "kernelspec": {
      "name": "python3",
      "display_name": "Python 3"
    },
    "language_info": {
      "name": "python"
    },
    "accelerator": "GPU"
  },
  "cells": [
    {
      "cell_type": "markdown",
      "source": [
        "##🎤 음성 인식 + 합성 예제: Whisper + TTS\n",
        "\n",
        "🧰 사용 도구\n",
        "\n",
        "| 기능    | 도구                                                    | 설명               |\n",
        "| ----- | ----------------------------------------------------- | ---------------- |\n",
        "| 음성 인식 | [`openai/whisper`](https://github.com/openai/whisper) | 고성능 다국어 음성 인식 모델 |\n",
        "| 음성 합성 | `TTS` (Coqui.ai or pyttsx3 / gTTS)                    | 텍스트를 음성으로 변환     |\n",
        "\n"
      ],
      "metadata": {
        "id": "btNHnE81gTIt"
      }
    },
    {
      "cell_type": "markdown",
      "source": [
        "###✅ 1. Whisper 설치 및 인식\n",
        "\n",
        "🔧 설치"
      ],
      "metadata": {
        "id": "HQ9lk8Qpgfmb"
      }
    },
    {
      "cell_type": "code",
      "source": [
        "!pip install git+https://github.com/openai/whisper.git\n",
        "!pip install torch"
      ],
      "metadata": {
        "id": "3yROl5uyghnw"
      },
      "execution_count": null,
      "outputs": []
    },
    {
      "cell_type": "markdown",
      "source": [
        "🎧 샘플 오디오 다운로드 (영어)"
      ],
      "metadata": {
        "id": "5i1FaugzgwFY"
      }
    },
    {
      "cell_type": "code",
      "source": [
        "!wget https://github.com/gloveboxes/OpenAI-Whisper-Transcriber-Sample/raw/master/harvard.wav -O harvard.wav\n"
      ],
      "metadata": {
        "id": "bqCKEvNRgnxg"
      },
      "execution_count": null,
      "outputs": []
    },
    {
      "cell_type": "markdown",
      "source": [
        "🧠 인식 코드"
      ],
      "metadata": {
        "id": "-AtsomhXg1xY"
      }
    },
    {
      "cell_type": "code",
      "source": [
        "import whisper\n",
        "\n",
        "# 모델 로딩\n",
        "model = whisper.load_model(\"base\")  # base, small, medium, large\n",
        "\n",
        "# 음성 파일 처리\n",
        "result = model.transcribe(\"harvard.wav\")\n",
        "print(\"🎧 인식된 텍스트:\\n\", result[\"text\"])"
      ],
      "metadata": {
        "id": "f1-9EJrUgze5"
      },
      "execution_count": null,
      "outputs": []
    },
    {
      "cell_type": "markdown",
      "source": [
        "🔊 음성 합성 (Text-to-Speech) 예제\n",
        "\n",
        "인식된 텍스트를 음성으로 변환하려면 gTTS 라이브러리를 사용할 수 있습니다:"
      ],
      "metadata": {
        "id": "SXkhhF8ghkMa"
      }
    },
    {
      "cell_type": "code",
      "source": [
        "!pip install gTTS"
      ],
      "metadata": {
        "id": "n8xMINh_hs-R"
      },
      "execution_count": null,
      "outputs": []
    },
    {
      "cell_type": "code",
      "source": [
        "from gtts import gTTS\n",
        "from IPython.display import Audio\n",
        "\n",
        "# 텍스트를 음성으로 변환\n",
        "tts = gTTS(text=result[\"text\"], lang='en')\n",
        "tts.save(\"output.mp3\")\n",
        "\n",
        "# 오디오 재생\n",
        "Audio(\"output.mp3\")"
      ],
      "metadata": {
        "id": "Bj8LsGPqg8u4"
      },
      "execution_count": null,
      "outputs": []
    },
    {
      "cell_type": "markdown",
      "source": [
        "###🎧 한국어 Whisper + TTS 음성 실습 예제"
      ],
      "metadata": {
        "id": "7nv6hdiTjNK4"
      }
    },
    {
      "cell_type": "markdown",
      "source": [
        "✅ 1. 한국어 음성 파일 준비 (예: 음성 샘플 업로드 또는 다운로드)\n",
        "\n",
        "[KSS Dataset](https://www.kaggle.com/datasets/bryanpark/korean-single-speaker-speech-dataset) (Korean)에서  다운로드"
      ],
      "metadata": {
        "id": "7tXFnPT4jQvZ"
      }
    },
    {
      "cell_type": "code",
      "source": [
        "import kagglehub\n",
        "\n",
        "# Download latest version\n",
        "path = kagglehub.dataset_download(\"bryanpark/korean-single-speaker-speech-dataset\")\n",
        "\n",
        "print(\"Path to dataset files:\", path)"
      ],
      "metadata": {
        "id": "C59q9wzGhn7t"
      },
      "execution_count": null,
      "outputs": []
    },
    {
      "cell_type": "code",
      "source": [
        "from IPython.display import Audio\n",
        "\n",
        "wav_path = \"/root/.cache/kagglehub/datasets/bryanpark/korean-single-speaker-speech-dataset/versions/4/kss/1/1_0000.wav\"\n",
        "\n",
        "# 오디오 재생\n",
        "Audio(wav_path)"
      ],
      "metadata": {
        "id": "2gMqZiAQkJSQ"
      },
      "execution_count": null,
      "outputs": []
    },
    {
      "cell_type": "markdown",
      "source": [
        "✅ 3. Whisper로 한국어 음성 인식"
      ],
      "metadata": {
        "id": "Rr5Zv2TSk1pv"
      }
    },
    {
      "cell_type": "code",
      "source": [
        "import whisper\n",
        "\n",
        "model = whisper.load_model(\"base\")  # small/medium/large 가능\n",
        "result = model.transcribe(wav_path)\n",
        "print(\"📝 인식 결과:\", result[\"text\"])\n"
      ],
      "metadata": {
        "id": "qFvO6ttUktkk"
      },
      "execution_count": null,
      "outputs": []
    },
    {
      "cell_type": "markdown",
      "source": [
        "✅ 4. TTS로 한국어 음성 생성\n",
        "\n",
        "▶️ gTTS (간단하고 빠름)"
      ],
      "metadata": {
        "id": "7VnO-6XJlKvZ"
      }
    },
    {
      "cell_type": "code",
      "source": [
        "from gtts import gTTS\n",
        "from IPython.display import Audio\n",
        "\n",
        "text = result[\"text\"]\n",
        "tts = gTTS(text=text, lang='ko')\n",
        "tts.save(\"korean_tts.mp3\")\n",
        "Audio(\"korean_tts.mp3\")\n"
      ],
      "metadata": {
        "id": "840DwHu-lFJk"
      },
      "execution_count": null,
      "outputs": []
    },
    {
      "cell_type": "markdown",
      "source": [
        "##🎓 Colab 기반 AI 음성 비서 시스템 (한국어)\n",
        "\n",
        "| 단계       | 도구               | 설명              |\n",
        "| -------- | ---------------- | --------------- |\n",
        "| 🎙 입력    | 마이크 또는 WAV 파일    | 사용자의 질문 수집      |\n",
        "| 📝 음성 인식 | Whisper          | 음성을 텍스트로 변환     |\n",
        "| 💬 응답 생성 | OpenAI / Rule 기반 | 간단한 챗봇 또는 LLM   |\n",
        "| 🔊 음성 합성 | gTTS / Coqui TTS | 한국어 텍스트 → 음성 출력 |\n"
      ],
      "metadata": {
        "id": "88C3opzzl_LN"
      }
    },
    {
      "cell_type": "markdown",
      "source": [
        "✅ 1. 라이브러리 설치"
      ],
      "metadata": {
        "id": "UTjxgwB0mFjI"
      }
    },
    {
      "cell_type": "code",
      "source": [
        "!pip install git+https://github.com/openai/whisper.git\n",
        "!pip install gTTS\n",
        "!pip install pydub"
      ],
      "metadata": {
        "id": "vCX0INqwlgSN"
      },
      "execution_count": null,
      "outputs": []
    },
    {
      "cell_type": "markdown",
      "source": [
        "✅ 2. 사전 준비 – Colab에 한국어 음성 파일 업로드"
      ],
      "metadata": {
        "id": "4mNwf4t1mPW6"
      }
    },
    {
      "cell_type": "markdown",
      "source": [
        "🎤 Windows 녹음기에서 녹음한 음성 저장 방법\n",
        "\n",
        "✅ 1. Windows 녹음기 열기\n",
        "\n",
        "- 검색창에 \"녹음기\" 또는 \"Voice Recorder\" 입력 후 앱 실행\n",
        "\n",
        "- 또는 윈도우 키 + R → soundrecorder 또는 VoiceRecorder 입력 후 실행\n",
        "\n",
        "✅ 2. 녹음 시작 및 저장\n",
        "\n",
        "1. ● 버튼 클릭하여 녹음 시작\n",
        "\n",
        "2. ■ 버튼 클릭하여 녹음 종료\n",
        "\n",
        "3. 좌측 목록에 녹음 파일이 자동 저장됨\n",
        "\n",
        "4. 녹음기 앱에서 우클릭 → 파일 위치 열기로 이동 가능\n",
        "\n",
        "✅ 4. 파일 형식\n",
        "\n",
        "- 기본 저장 형식은 .m4a (AAC 압축)\n",
        "\n",
        "- Whisper에서는 .wav 권장 → 변환 필요 시 Audacity 또는 ffmpeg 사용"
      ],
      "metadata": {
        "id": "PJhHsQsHrj_p"
      }
    },
    {
      "cell_type": "code",
      "source": [
        "from google.colab import files\n",
        "\n",
        "print(\"🔼 음성 파일을 업로드하세요\")\n",
        "uploaded = files.upload()"
      ],
      "metadata": {
        "id": "VWQqnu-7mX1Z"
      },
      "execution_count": null,
      "outputs": []
    },
    {
      "cell_type": "markdown",
      "source": [
        "🔁 m4a → wav 변환 (Whisper용)\n",
        "\n",
        "▶️ Python 코드로 변환"
      ],
      "metadata": {
        "id": "Bp7oso5psJuZ"
      }
    },
    {
      "cell_type": "code",
      "source": [
        "from pydub import AudioSegment\n",
        "\n",
        "# m4a 파일을 wav로 변환\n",
        "m4a = AudioSegment.from_file(\"녹음.m4a\", format=\"m4a\")\n",
        "m4a.export(\"converted.wav\", format=\"wav\")"
      ],
      "metadata": {
        "id": "lxlvuqivsLhN"
      },
      "execution_count": null,
      "outputs": []
    },
    {
      "cell_type": "markdown",
      "source": [
        "✅ Whisper로 한국어 음성 인식"
      ],
      "metadata": {
        "id": "0V4LgVN0sxWn"
      }
    },
    {
      "cell_type": "code",
      "source": [
        "import whisper\n",
        "\n",
        "model = whisper.load_model(\"base\")\n",
        "result = model.transcribe(\"converted.wav\", language=\"ko\")\n",
        "recognized_text = result[\"text\"]\n",
        "print(\"📝 인식된 텍스트:\", recognized_text)\n"
      ],
      "metadata": {
        "id": "MILTKI0_szWU"
      },
      "execution_count": null,
      "outputs": []
    },
    {
      "cell_type": "markdown",
      "source": [
        "✅ 간단한 규칙 기반 응답 생성"
      ],
      "metadata": {
        "id": "ohcqL-h7s9EK"
      }
    },
    {
      "cell_type": "code",
      "source": [
        "def respond_to(text):\n",
        "    if \"날씨\" in text:\n",
        "        return \"오늘은 맑고 기온은 22도입니다.\"\n",
        "    elif \"시\" in text:\n",
        "        from datetime import datetime\n",
        "        return f\"지금은 {datetime.now().strftime('%H시 %M분입니다')}.\"\n",
        "    elif \"안녕\" in text:\n",
        "        return \"안녕하세요! 무엇을 도와드릴까요?\"\n",
        "    else:\n",
        "        return \"죄송해요. 아직 그 요청은 이해하지 못했어요.\"\n",
        "\n",
        "response_text = respond_to(recognized_text)\n",
        "print(\"🤖 응답:\", response_text)\n"
      ],
      "metadata": {
        "id": "N1l4anT7mMXy"
      },
      "execution_count": null,
      "outputs": []
    },
    {
      "cell_type": "markdown",
      "source": [
        "✅ TTS 음성으로 응답 생성 및 재생"
      ],
      "metadata": {
        "id": "6BNDd0pNtMiE"
      }
    },
    {
      "cell_type": "code",
      "source": [
        "from gtts import gTTS\n",
        "from IPython.display import Audio\n",
        "\n",
        "tts = gTTS(text=response_text, lang='ko')\n",
        "tts.save(\"response.mp3\")\n",
        "Audio(\"response.mp3\")"
      ],
      "metadata": {
        "id": "9OVNIw2XmUeT"
      },
      "execution_count": null,
      "outputs": []
    },
    {
      "cell_type": "markdown",
      "source": [
        "##🧠 LLaMA3 + Whisper + gTTS 기반 AI 음성 비서 (Colab용)"
      ],
      "metadata": {
        "id": "BDaWfCQqtrod"
      }
    },
    {
      "cell_type": "markdown",
      "source": [
        "✅ Hugging Face 로그인 (LLaMA3 모델 다운로드용)"
      ],
      "metadata": {
        "id": "uyRjjsSgtw5P"
      }
    },
    {
      "cell_type": "code",
      "source": [
        "!pip install transformers accelerate pandas"
      ],
      "metadata": {
        "id": "pBB3DU0Tw8ED"
      },
      "execution_count": null,
      "outputs": []
    },
    {
      "cell_type": "code",
      "source": [
        "from huggingface_hub import login\n",
        "\n",
        "# 🔑 여기에서 Hugging Face Access Token 입력 (https://huggingface.co/settings/tokens)\n",
        "login(\"hf_your_access_token_here\")\n"
      ],
      "metadata": {
        "id": "JlqraQ38tRby"
      },
      "execution_count": null,
      "outputs": []
    },
    {
      "cell_type": "markdown",
      "source": [
        "✅ 음성 파일 업로드 (마이크 입력 대신)"
      ],
      "metadata": {
        "id": "dMyPdZYYuRyR"
      }
    },
    {
      "cell_type": "code",
      "source": [
        "from google.colab import files\n",
        "\n",
        "print(\"🎤 질문 음성 파일을 업로드하세요 (예: korean_question.wav)\")\n",
        "uploaded = files.upload()\n",
        "filename = list(uploaded.keys())[0]"
      ],
      "metadata": {
        "id": "bm3NTPEpuTHk"
      },
      "execution_count": null,
      "outputs": []
    },
    {
      "cell_type": "markdown",
      "source": [
        "🔁 m4a → wav 변환 (Whisper용)"
      ],
      "metadata": {
        "id": "enL3W3Egu4Df"
      }
    },
    {
      "cell_type": "code",
      "source": [
        "from pydub import AudioSegment\n",
        "\n",
        "# m4a 파일을 wav로 변환\n",
        "m4a = AudioSegment.from_file(\"녹음.m4a\", format=\"m4a\")\n",
        "m4a.export(\"converted.wav\", format=\"wav\")"
      ],
      "metadata": {
        "id": "ATyKBnXouwQk"
      },
      "execution_count": null,
      "outputs": []
    },
    {
      "cell_type": "markdown",
      "source": [
        "✅ Whisper로 한국어 음성 인식"
      ],
      "metadata": {
        "id": "t36E9KFUvB2A"
      }
    },
    {
      "cell_type": "code",
      "source": [
        "import whisper\n",
        "\n",
        "model = whisper.load_model(\"base\")\n",
        "result = model.transcribe(\"converted.wav\", language=\"ko\")\n",
        "recognized_text = result[\"text\"]\n",
        "print(\"📝 인식된 질문:\", recognized_text)"
      ],
      "metadata": {
        "id": "TsopLcFQu750"
      },
      "execution_count": null,
      "outputs": []
    },
    {
      "cell_type": "markdown",
      "source": [
        "✅ 5. LLaMA3 기반 자연어 응답 생성"
      ],
      "metadata": {
        "id": "d1tj7IsdviM8"
      }
    },
    {
      "cell_type": "code",
      "source": [
        "from transformers import AutoTokenizer, AutoModelForCausalLM\n",
        "import torch\n",
        "\n",
        "model_name = \"meta-llama/Meta-Llama-3-8B-Instruct\"\n",
        "\n",
        "# 모델 불러오기 (최초 실행 시 시간 소요)\n",
        "tokenizer = AutoTokenizer.from_pretrained(model_name, use_auth_token=True)\n",
        "model = AutoModelForCausalLM.from_pretrained(model_name, torch_dtype=torch.float16, device_map=\"auto\")\n",
        "\n",
        "# 프롬프트 구성\n",
        "prompt = f\"\"\"\n",
        "당신은 친절한 한국어 AI 비서입니다. 사용자의 질문에 정중하고 정확하게 답변하세요.\n",
        "\n",
        "질문: {recognized_text}\n",
        "답변:\"\"\"\n",
        "\n",
        "inputs = tokenizer(prompt, return_tensors=\"pt\").to(model.device)\n",
        "outputs = model.generate(**inputs, max_new_tokens=200, temperature=0.7)\n",
        "response_text = tokenizer.decode(outputs[0], skip_special_tokens=True).split(\"답변:\")[-1].strip()\n",
        "\n",
        "print(\"🤖 LLaMA3 응답:\", response_text)\n"
      ],
      "metadata": {
        "id": "kIwgoGIzvGv_"
      },
      "execution_count": null,
      "outputs": []
    },
    {
      "cell_type": "markdown",
      "source": [
        "✅ gTTS로 음성 응답 생성"
      ],
      "metadata": {
        "id": "oWTjqkwNyf0j"
      }
    },
    {
      "cell_type": "code",
      "source": [
        "from gtts import gTTS\n",
        "from IPython.display import Audio\n",
        "\n",
        "tts = gTTS(text=response_text, lang='ko')\n",
        "tts.save(\"response.mp3\")\n",
        "Audio(\"response.mp3\")"
      ],
      "metadata": {
        "id": "DltmXV1ovjzA"
      },
      "execution_count": null,
      "outputs": []
    },
    {
      "cell_type": "code",
      "source": [],
      "metadata": {
        "id": "jL853kx6yrOY"
      },
      "execution_count": null,
      "outputs": []
    }
  ]
}